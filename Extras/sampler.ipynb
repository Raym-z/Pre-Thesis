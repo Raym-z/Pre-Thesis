{
 "cells": [
  {
   "cell_type": "code",
   "execution_count": 7,
   "metadata": {},
   "outputs": [
    {
     "name": "stdout",
     "output_type": "stream",
     "text": [
      "Found 10000 images: {0: 5000, 1: 5000}\n",
      "After balancing: {1: 500, 0: 500}\n",
      "Train/test split: {'train': 800, 'test': 200}\n",
      "Final class counts: {1: 500, 0: 500}\n",
      "Wrote 1000 rows to images\\manifest1k.csv\n"
     ]
    }
   ],
   "source": [
    "#!/usr/bin/env python\n",
    "import pathlib\n",
    "import pandas as pd\n",
    "from sklearn.model_selection import train_test_split\n",
    "\n",
    "# ---- 1. Config -------------------------------------------------------------\n",
    "ROOT = pathlib.Path(\"images\")\n",
    "OUT  = ROOT / \"manifest1k.csv\"\n",
    "SEED = 42\n",
    "\n",
    "# ---- 2. Gather all image paths & labels -----------------------------------\n",
    "rows = []\n",
    "for folder, label in [\n",
    "    (\"contents\",     0),   # real originals\n",
    "    (\"styles\",       0),   # real style-only\n",
    "    (\"stylizations\", 1),   # stylized (fake)\n",
    "]:\n",
    "    for p in (ROOT / folder).glob(\"*.jpg\"):\n",
    "        rows.append((str(p), label))\n",
    "\n",
    "df = pd.DataFrame(rows, columns=[\"path\",\"label\"])\n",
    "print(f\"Found {len(df)} images: {df.label.value_counts().to_dict()}\")\n",
    "\n",
    "# ---- 3. Down-sample to at most 15k per class ------------------------------\n",
    "max_per_label = 500\n",
    "balanced_parts = []\n",
    "for lbl in (0, 1):\n",
    "    part = df[df.label == lbl]\n",
    "    n    = min(len(part), max_per_label)\n",
    "    balanced_parts.append(part.sample(n=n, random_state=SEED))\n",
    "\n",
    "balanced = pd.concat(balanced_parts).sample(frac=1, random_state=SEED).reset_index(drop=True)\n",
    "print(f\"After balancing: {balanced.label.value_counts().to_dict()}\")\n",
    "\n",
    "# ---- 4. Stratified train/test split (80/20) -------------------------------\n",
    "train_df, test_df = train_test_split(\n",
    "    balanced,\n",
    "    test_size=0.2,\n",
    "    random_state=SEED,\n",
    "    stratify=balanced[\"label\"]\n",
    ")\n",
    "\n",
    "train_df[\"split\"] = \"train\"\n",
    "test_df [\"split\"] = \"test\"\n",
    "\n",
    "result = pd.concat([train_df, test_df]).reset_index(drop=True)\n",
    "print(f\"Train/test split: {result.split.value_counts().to_dict()}\")\n",
    "print(f\"Final class counts: {result.label.value_counts().to_dict()}\")\n",
    "\n",
    "# ---- 5. Save manifest.csv -------------------------------------------------\n",
    "result.to_csv(OUT, index=False)\n",
    "print(f\"Wrote {len(result)} rows to {OUT}\")\n"
   ]
  },
  {
   "cell_type": "code",
   "execution_count": null,
   "metadata": {},
   "outputs": [],
   "source": []
  },
  {
   "cell_type": "code",
   "execution_count": null,
   "metadata": {},
   "outputs": [],
   "source": []
  },
  {
   "cell_type": "code",
   "execution_count": null,
   "metadata": {},
   "outputs": [],
   "source": []
  },
  {
   "cell_type": "code",
   "execution_count": null,
   "metadata": {},
   "outputs": [],
   "source": []
  },
  {
   "cell_type": "code",
   "execution_count": null,
   "metadata": {},
   "outputs": [],
   "source": []
  },
  {
   "cell_type": "code",
   "execution_count": null,
   "metadata": {},
   "outputs": [],
   "source": []
  }
 ],
 "metadata": {
  "kernelspec": {
   "display_name": "Python 3",
   "language": "python",
   "name": "python3"
  },
  "language_info": {
   "codemirror_mode": {
    "name": "ipython",
    "version": 3
   },
   "file_extension": ".py",
   "mimetype": "text/x-python",
   "name": "python",
   "nbconvert_exporter": "python",
   "pygments_lexer": "ipython3",
   "version": "3.12.6"
  }
 },
 "nbformat": 4,
 "nbformat_minor": 2
}
